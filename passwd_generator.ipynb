{
 "cells": [
  {
   "cell_type": "code",
   "execution_count": null,
   "id": "08cff40d",
   "metadata": {},
   "outputs": [],
   "source": [
    "import random\n",
    "import string"
   ]
  },
  {
   "cell_type": "code",
   "execution_count": null,
   "id": "2135d2a7",
   "metadata": {},
   "outputs": [],
   "source": [
    "def generate_password(length=12, include_digits=True, include_special_chars=True):\n",
    "    # Define character sets\n",
    "    lowercase_letters = string.ascii_lowercase\n",
    "    uppercase_letters = string.ascii_uppercase\n",
    "    digits = string.digits if include_digits else ''\n",
    "    special_chars = string.punctuation if include_special_chars else ''\n",
    "\n",
    "    # Combine character sets\n",
    "    all_chars = lowercase_letters + uppercase_letters + digits + special_chars\n",
    "\n",
    "    # Ensure the password length is not greater than the available characters\n",
    "    length = min(length, len(all_chars))\n",
    "\n",
    "    # Generate the password\n",
    "    password = ''.join(random.sample(all_chars, length))\n",
    "    return password"
   ]
  },
  {
   "cell_type": "code",
   "execution_count": null,
   "id": "1092bcc7",
   "metadata": {},
   "outputs": [],
   "source": [
    "# Example usage\n",
    "password = generate_password(length=16, include_digits=True, include_special_chars=True)\n",
    "print(password)"
   ]
  }
 ],
 "metadata": {
  "kernelspec": {
   "display_name": "Python 3 (ipykernel)",
   "language": "python",
   "name": "python3"
  },
  "language_info": {
   "codemirror_mode": {
    "name": "ipython",
    "version": 3
   },
   "file_extension": ".py",
   "mimetype": "text/x-python",
   "name": "python",
   "nbconvert_exporter": "python",
   "pygments_lexer": "ipython3",
   "version": "3.11.3"
  }
 },
 "nbformat": 4,
 "nbformat_minor": 5
}
